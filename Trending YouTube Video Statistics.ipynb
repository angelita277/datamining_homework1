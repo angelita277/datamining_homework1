{
 "cells": [
  {
   "cell_type": "code",
   "execution_count": 2,
   "metadata": {
    "_cell_guid": "b1076dfc-b9ad-4769-8c92-a6c4dae69d19",
    "_uuid": "8f2839f25d086af736a60e9eeb907d3b93b6e0e5",
    "collapsed": true,
    "execution": {
     "iopub.execute_input": "2022-03-22T08:05:31.065122Z",
     "iopub.status.busy": "2022-03-22T08:05:31.064480Z",
     "iopub.status.idle": "2022-03-22T08:05:31.087703Z",
     "shell.execute_reply": "2022-03-22T08:05:31.086842Z",
     "shell.execute_reply.started": "2022-03-22T08:05:31.065084Z"
    },
    "jupyter": {
     "outputs_hidden": true
    }
   },
   "outputs": [],
   "source": [
    "# This Python 3 environment comes with many helpful analytics libraries installed\n",
    "# It is defined by the kaggle/python Docker image: https://github.com/kaggle/docker-python\n",
    "# For example, here's several helpful packages to load\n",
    "\n",
    "import numpy as np # linear algebra\n",
    "import pandas as pd # data processing, CSV file I/O (e.g. pd.read_csv)\n",
    "\n",
    "# Input data files are available in the read-only \"../input/\" directory\n",
    "# For example, running this (by clicking run or pressing Shift+Enter) will list all files under the input directory\n",
    "\n",
    "import os\n",
    "for dirname, _, filenames in os.walk('/kaggle/input'):\n",
    "    for filename in filenames:\n",
    "        print(os.path.join(dirname, filename))\n",
    "\n",
    "# You can write up to 20GB to the current directory (/kaggle/working/) that gets preserved as output when you create a version using \"Save & Run All\" \n",
    "# You can also write temporary files to /kaggle/temp/, but they won't be saved outside of the current session"
   ]
  },
  {
   "cell_type": "code",
   "execution_count": 3,
   "metadata": {
    "collapsed": true,
    "execution": {
     "iopub.execute_input": "2022-03-22T08:05:31.089721Z",
     "iopub.status.busy": "2022-03-22T08:05:31.089227Z",
     "iopub.status.idle": "2022-03-22T08:05:33.333146Z",
     "shell.execute_reply": "2022-03-22T08:05:33.332333Z",
     "shell.execute_reply.started": "2022-03-22T08:05:31.089685Z"
    },
    "jupyter": {
     "outputs_hidden": true
    }
   },
   "outputs": [],
   "source": [
    "datafile_path='/kaggle/input/youtube-new/CAvideos.csv'\n",
    "datafile=pd.read_csv(datafile_path)\n",
    "datafile.head(10)"
   ]
  },
  {
   "cell_type": "markdown",
   "metadata": {},
   "source": [
    "# 3.1数据可视化和摘要\n",
    "## 数据摘要\n",
    "### 标称属性，给出每个可能取值的频数\n",
    "由于视频的id是关键值，每个视频的id必不相同，因此video_id列不予分析"
   ]
  },
  {
   "cell_type": "code",
   "execution_count": 4,
   "metadata": {
    "collapsed": true,
    "execution": {
     "iopub.execute_input": "2022-03-22T08:05:33.335039Z",
     "iopub.status.busy": "2022-03-22T08:05:33.334721Z",
     "iopub.status.idle": "2022-03-22T08:05:33.519669Z",
     "shell.execute_reply": "2022-03-22T08:05:33.518737Z",
     "shell.execute_reply.started": "2022-03-22T08:05:33.335003Z"
    },
    "jupyter": {
     "outputs_hidden": true
    }
   },
   "outputs": [],
   "source": [
    "columns=['trending_date','title','channel_title','category_id','publish_time','tags','views','likes','dislikes','comment_count','thumbnail_link','comments_disabled','ratings_disabled','video_error_or_removed','description']\n",
    "for column in columns:\n",
    "    print(datafile[column].value_counts())\n",
    "    print('-'*40)"
   ]
  },
  {
   "cell_type": "markdown",
   "metadata": {},
   "source": [
    "### 数值属性，给出5数概括及缺失值的个数"
   ]
  },
  {
   "cell_type": "code",
   "execution_count": 33,
   "metadata": {
    "collapsed": true,
    "execution": {
     "iopub.execute_input": "2022-03-22T08:49:29.791935Z",
     "iopub.status.busy": "2022-03-22T08:49:29.791619Z",
     "iopub.status.idle": "2022-03-22T08:49:29.866375Z",
     "shell.execute_reply": "2022-03-22T08:49:29.865389Z",
     "shell.execute_reply.started": "2022-03-22T08:49:29.791905Z"
    },
    "jupyter": {
     "outputs_hidden": true
    }
   },
   "outputs": [],
   "source": [
    "print(datafile.describe())\n",
    "print('-'*80)\n",
    "print(datafile.isnull().sum())"
   ]
  },
  {
   "cell_type": "markdown",
   "metadata": {},
   "source": [
    "5数概括即为第一表格中最后五行，即最小值(min)，第一四分位数(25%)，中位数(50%)，第三四分位数(75%)，最大值(max)。\n",
    "第二个列表为缺失数据统计，可以看到只有description列有缺失数据，缺失1296个数据。"
   ]
  },
  {
   "cell_type": "markdown",
   "metadata": {},
   "source": [
    "## 数据可视化\n",
    "### 使用直方图、盒图等检查数据分布及离群点\n",
    "由于只有'category_id','views','likes','dislikes','comment_count'五列是数值，因此仅对这五列进行处理。\n",
    "如下所示为直方图"
   ]
  },
  {
   "cell_type": "code",
   "execution_count": 46,
   "metadata": {
    "collapsed": true,
    "execution": {
     "iopub.execute_input": "2022-03-22T09:13:35.699032Z",
     "iopub.status.busy": "2022-03-22T09:13:35.698745Z",
     "iopub.status.idle": "2022-03-22T09:13:39.717849Z",
     "shell.execute_reply": "2022-03-22T09:13:39.716948Z",
     "shell.execute_reply.started": "2022-03-22T09:13:35.699003Z"
    },
    "jupyter": {
     "outputs_hidden": true
    }
   },
   "outputs": [],
   "source": [
    "import matplotlib.pyplot as plt\n",
    "for x in ['category_id','views','likes','dislikes','comment_count']:\n",
    "    dt1=pd.DataFrame(datafile[x],columns=[x])\n",
    "    dt1.plot.hist(title=x,bins=100)\n",
    "    dt2=pd.DataFrame(datafile[x],columns=[x])\n",
    "    dt2.plot.box()\n",
    "'''df=pd.DataFrame(datafile['views'])\n",
    "df.plot.hist(title='views',bins=1000,xlim=(0,10000000))'''"
   ]
  },
  {
   "cell_type": "markdown",
   "metadata": {},
   "source": [
    "如下所示为盒图"
   ]
  },
  {
   "cell_type": "markdown",
   "metadata": {},
   "source": [
    "## 3.2数据缺失的处理\n",
    "### 将缺失部分剔除"
   ]
  },
  {
   "cell_type": "code",
   "execution_count": 55,
   "metadata": {
    "execution": {
     "iopub.execute_input": "2022-03-22T09:28:55.732839Z",
     "iopub.status.busy": "2022-03-22T09:28:55.731967Z",
     "iopub.status.idle": "2022-03-22T09:28:55.789141Z",
     "shell.execute_reply": "2022-03-22T09:28:55.788330Z",
     "shell.execute_reply.started": "2022-03-22T09:28:55.732779Z"
    }
   },
   "outputs": [],
   "source": [
    "data_dropna=datafile.dropna(axis=0,how='any')\n",
    "print('原数据有'+str(datafile.shape[0])+'行')\n",
    "print('新数据有'+str(data_dropna.shape[0])+'行')\n",
    "print(\"删除了\"+str(datafile.shape[0]-data_dropna.shape[0])+\"行\")"
   ]
  },
  {
   "cell_type": "markdown",
   "metadata": {},
   "source": [
    "### 用最高频率值来填补缺失值\n",
    "由于只有description列有缺失值，该列是对视频的描述，因此填补为None"
   ]
  },
  {
   "cell_type": "code",
   "execution_count": 56,
   "metadata": {
    "execution": {
     "iopub.execute_input": "2022-03-22T09:36:19.396872Z",
     "iopub.status.busy": "2022-03-22T09:36:19.396451Z",
     "iopub.status.idle": "2022-03-22T09:36:19.455040Z",
     "shell.execute_reply": "2022-03-22T09:36:19.454142Z",
     "shell.execute_reply.started": "2022-03-22T09:36:19.396827Z"
    }
   },
   "outputs": [],
   "source": [
    "datafile['description']=datafile['description'].fillna('None')\n",
    "print(datafile.isnull().sum())"
   ]
  },
  {
   "cell_type": "markdown",
   "metadata": {},
   "source": [
    "可以看到已经没有缺失值了"
   ]
  }
 ],
 "metadata": {
  "kernelspec": {
   "display_name": "Python 3 (ipykernel)",
   "language": "python",
   "name": "python3"
  },
  "language_info": {
   "codemirror_mode": {
    "name": "ipython",
    "version": 3
   },
   "file_extension": ".py",
   "mimetype": "text/x-python",
   "name": "python",
   "nbconvert_exporter": "python",
   "pygments_lexer": "ipython3",
   "version": "3.9.7"
  }
 },
 "nbformat": 4,
 "nbformat_minor": 4
}
